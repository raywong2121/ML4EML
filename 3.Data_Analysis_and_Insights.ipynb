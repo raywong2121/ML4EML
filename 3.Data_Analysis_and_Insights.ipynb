{
 "cells": [
  {
   "cell_type": "code",
   "execution_count": 1,
   "id": "789ac28c-60cc-4662-a08a-7d1ba28235d0",
   "metadata": {
    "execution": {
     "iopub.execute_input": "2024-08-14T02:51:14.246810Z",
     "iopub.status.busy": "2024-08-14T02:51:14.245744Z",
     "iopub.status.idle": "2024-08-14T02:51:15.928749Z",
     "shell.execute_reply": "2024-08-14T02:51:15.927166Z",
     "shell.execute_reply.started": "2024-08-14T02:51:14.246755Z"
    }
   },
   "outputs": [],
   "source": [
    "import pandas as pd\n",
    "import matplotlib.pyplot as plt\n",
    "import numpy as np\n",
    "from matplotlib import rcParams\n",
    "import statsmodels.api as sm\n",
    "from statsmodels.formula.api import ols\n",
    "from statsmodels.sandbox.stats.multicomp import MultiComparison"
   ]
  },
  {
   "cell_type": "code",
   "execution_count": 2,
   "id": "d2294143-011a-46fe-a1d7-709b8a098a36",
   "metadata": {
    "execution": {
     "iopub.execute_input": "2024-08-14T02:51:15.931720Z",
     "iopub.status.busy": "2024-08-14T02:51:15.930919Z",
     "iopub.status.idle": "2024-08-14T02:51:15.964152Z",
     "shell.execute_reply": "2024-08-14T02:51:15.963131Z",
     "shell.execute_reply.started": "2024-08-14T02:51:15.931663Z"
    }
   },
   "outputs": [
    {
     "name": "stdout",
     "output_type": "stream",
     "text": [
      "<class 'pandas.core.frame.DataFrame'>\n",
      "RangeIndex: 4554 entries, 0 to 4553\n",
      "Data columns (total 7 columns):\n",
      " #   Column      Non-Null Count  Dtype  \n",
      "---  ------      --------------  -----  \n",
      " 0   resampling  4554 non-null   object \n",
      " 1   mmr         4554 non-null   float64\n",
      " 2   eml         4554 non-null   object \n",
      " 3   gmean       4554 non-null   float64\n",
      " 4   mcc         4554 non-null   float64\n",
      " 5   ap          4554 non-null   float64\n",
      " 6   auc         4554 non-null   float64\n",
      "dtypes: float64(5), object(2)\n",
      "memory usage: 249.2+ KB\n"
     ]
    }
   ],
   "source": [
    "# Load the merged CSV file containing model performance data\n",
    "# This file is generated from the previous step where multiple model performance results are consolidated\n",
    "df = pd.read_csv('all_evaluations.csv', low_memory=False, encoding=\"utf-8\")\n",
    "df.info()"
   ]
  },
  {
   "cell_type": "code",
   "execution_count": 3,
   "id": "1139be8e-d374-4b5e-bd13-71076736e60e",
   "metadata": {
    "execution": {
     "iopub.execute_input": "2024-08-14T02:51:15.965263Z",
     "iopub.status.busy": "2024-08-14T02:51:15.965039Z",
     "iopub.status.idle": "2024-08-14T02:51:16.119725Z",
     "shell.execute_reply": "2024-08-14T02:51:16.119059Z",
     "shell.execute_reply.started": "2024-08-14T02:51:15.965243Z"
    }
   },
   "outputs": [
    {
     "name": "stdout",
     "output_type": "stream",
     "text": [
      "                 sum_sq      df           F         PR(>F)\n",
      "C(mmr)         0.487982    94.0    7.136639   1.680386e-80\n",
      "C(eml)         0.214865     5.0   59.076168   9.828152e-60\n",
      "C(resampling)  1.268650     7.0  249.150258  9.154552e-314\n",
      "Residual       3.234817  4447.0         NaN            NaN\n"
     ]
    }
   ],
   "source": [
    "# Define the model formula\n",
    "# This formula defines 'gmean' as the dependent variable and includes 'mmr', 'eml', and 'resampling' as categorical independent variables.\n",
    "formula = 'gmean ~ C(mmr) + C(eml) + C(resampling)'\n",
    "\n",
    "# Fit the OLS model\n",
    "# Fit the Ordinary Least Squares regression model using the defined formula and dataset.\n",
    "model = ols(formula, data=df).fit()\n",
    "\n",
    "# Perform ANOVA\n",
    "# Conduct Analysis of Variance (ANOVA) to examine the statistical significance of the effects of the factors on the model.\n",
    "aov_table = sm.stats.anova_lm(model, typ=2)\n",
    "print(aov_table)"
   ]
  },
  {
   "cell_type": "code",
   "execution_count": 4,
   "id": "a9d1a62f-c3e0-4d9b-8202-0d3732970b06",
   "metadata": {
    "execution": {
     "iopub.execute_input": "2024-08-14T02:51:16.121110Z",
     "iopub.status.busy": "2024-08-14T02:51:16.120655Z",
     "iopub.status.idle": "2024-08-14T02:51:16.126917Z",
     "shell.execute_reply": "2024-08-14T02:51:16.125468Z",
     "shell.execute_reply.started": "2024-08-14T02:51:16.121082Z"
    }
   },
   "outputs": [],
   "source": [
    "# The following sections repeat the analysis for different performance metrics.\n",
    "# We will use the same approach to model and analyze 'mcc', 'ap', 'auc'. \n",
    "# using Ordinary Least Squares regression and ANOVA to assess the impact of 'mmr', 'eml', and 'resampling'."
   ]
  },
  {
   "cell_type": "code",
   "execution_count": 5,
   "id": "2903ddb9-ce9a-41d5-9440-cd745b245c5d",
   "metadata": {
    "execution": {
     "iopub.execute_input": "2024-08-14T02:51:16.128526Z",
     "iopub.status.busy": "2024-08-14T02:51:16.128257Z",
     "iopub.status.idle": "2024-08-14T02:51:16.289958Z",
     "shell.execute_reply": "2024-08-14T02:51:16.289084Z",
     "shell.execute_reply.started": "2024-08-14T02:51:16.128501Z"
    }
   },
   "outputs": [
    {
     "name": "stdout",
     "output_type": "stream",
     "text": [
      "                 sum_sq      df           F         PR(>F)\n",
      "C(mmr)         0.214040    94.0    7.456464   2.115303e-85\n",
      "C(eml)         0.058157     5.0   38.088578   2.143815e-38\n",
      "C(resampling)  0.502400     7.0  235.026976  2.887366e-298\n",
      "Residual       1.358005  4447.0         NaN            NaN\n"
     ]
    }
   ],
   "source": [
    "# Analyze 'mcc' as the dependent variable\n",
    "formula = 'mcc ~ C(mmr) + C(eml) + C(resampling)'\n",
    "model = ols(formula, data=df).fit()\n",
    "aov_table = sm.stats.anova_lm(model, typ=2)\n",
    "print(aov_table)"
   ]
  },
  {
   "cell_type": "code",
   "execution_count": 6,
   "id": "57b5de08-cb61-48cb-a97d-9abd38c7852e",
   "metadata": {
    "execution": {
     "iopub.execute_input": "2024-08-14T02:51:16.293510Z",
     "iopub.status.busy": "2024-08-14T02:51:16.293109Z",
     "iopub.status.idle": "2024-08-14T02:51:16.453829Z",
     "shell.execute_reply": "2024-08-14T02:51:16.453030Z",
     "shell.execute_reply.started": "2024-08-14T02:51:16.293481Z"
    }
   },
   "outputs": [
    {
     "name": "stdout",
     "output_type": "stream",
     "text": [
      "                 sum_sq      df           F         PR(>F)\n",
      "C(mmr)         0.526416    94.0   15.413608  1.219034e-204\n",
      "C(eml)         0.777392     5.0  427.930815   0.000000e+00\n",
      "C(resampling)  0.553344     7.0  217.570803  9.207737e-279\n",
      "Residual       1.615711  4447.0         NaN            NaN\n"
     ]
    }
   ],
   "source": [
    "# Analyze 'ap' as the dependent variable\n",
    "formula = 'ap ~ C(mmr) + C(eml) + C(resampling)'\n",
    "model = ols(formula, data=df).fit()\n",
    "aov_table = sm.stats.anova_lm(model, typ=2)\n",
    "print(aov_table)"
   ]
  },
  {
   "cell_type": "code",
   "execution_count": 7,
   "id": "6c2368ef-2693-4c80-9d06-d5d9dd4be923",
   "metadata": {
    "execution": {
     "iopub.execute_input": "2024-08-14T02:51:16.455213Z",
     "iopub.status.busy": "2024-08-14T02:51:16.454878Z",
     "iopub.status.idle": "2024-08-14T02:51:16.567362Z",
     "shell.execute_reply": "2024-08-14T02:51:16.566616Z",
     "shell.execute_reply.started": "2024-08-14T02:51:16.455189Z"
    }
   },
   "outputs": [
    {
     "name": "stdout",
     "output_type": "stream",
     "text": [
      "                 sum_sq      df            F        PR(>F)\n",
      "C(mmr)         0.158653    94.0     7.000310  2.053583e-78\n",
      "C(eml)         1.210595     5.0  1004.212753  0.000000e+00\n",
      "C(resampling)  0.793041     7.0   469.888064  0.000000e+00\n",
      "Residual       1.072186  4447.0          NaN           NaN\n"
     ]
    }
   ],
   "source": [
    "# Analyze 'auc' as the dependent variable\n",
    "formula = 'auc ~ C(mmr) + C(eml) + C(resampling)'\n",
    "model = ols(formula, data=df).fit()\n",
    "aov_table = sm.stats.anova_lm(model, typ=2)\n",
    "print(aov_table)"
   ]
  },
  {
   "cell_type": "code",
   "execution_count": 8,
   "id": "7db87d48-d065-4dcf-8319-516d1559a879",
   "metadata": {
    "execution": {
     "iopub.execute_input": "2024-08-14T02:51:16.568669Z",
     "iopub.status.busy": "2024-08-14T02:51:16.568349Z",
     "iopub.status.idle": "2024-08-14T02:51:17.378120Z",
     "shell.execute_reply": "2024-08-14T02:51:17.376211Z",
     "shell.execute_reply.started": "2024-08-14T02:51:16.568645Z"
    }
   },
   "outputs": [
    {
     "name": "stdout",
     "output_type": "stream",
     "text": [
      "Resampling strategies have a significant impact on gmean. Proceeding with multiple comparisons to identify the most effective method.\n",
      "             group1           group2  meandiff   p-adj   lower   upper  reject\n",
      "0            ADASYN  BorderlineSMOTE    0.0235  0.0000  0.0182  0.0288    True\n",
      "1            ADASYN            IWGMM    0.0496  0.0000  0.0443  0.0549    True\n",
      "3            ADASYN              ROS    0.0208  0.0000  0.0155  0.0261    True\n",
      "4            ADASYN            SMOTE    0.0063  0.0077  0.0010  0.0116    True\n",
      "6            ADASYN         SVMSMOTE    0.0263  0.0000  0.0210  0.0316    True\n",
      "7   BorderlineSMOTE            IWGMM    0.0261  0.0000  0.0208  0.0314    True\n",
      "18      KMeansSMOTE              ROS    0.0166  0.0000  0.0113  0.0219    True\n",
      "21      KMeansSMOTE         SVMSMOTE    0.0221  0.0000  0.0168  0.0274    True\n",
      "24              ROS         SVMSMOTE    0.0055  0.0339  0.0002  0.0108    True\n",
      "26            SMOTE         SVMSMOTE    0.0200  0.0000  0.0148  0.0253    True\n",
      "27         SMOTEENN         SVMSMOTE    0.0311  0.0000  0.0258  0.0364    True\n"
     ]
    }
   ],
   "source": [
    "# Assessing the importance of resampling strategies\n",
    "# Given the significant F-statistic and extremely low p-value in ANOVA results for 'resampling',\n",
    "# it is crucial to further investigate which specific resampling strategies perform best.\n",
    "\n",
    "# Analyze the significant effect of 'resampling' on 'gmean'\n",
    "if aov_table.loc['C(resampling)', 'PR(>F)'] < 0.05:\n",
    "    print(\"Resampling strategies have a significant impact on gmean. Proceeding with multiple comparisons to identify the most effective method.\")\n",
    "\n",
    "    # Conducting multiple comparisons among resampling strategies\n",
    "    from statsmodels.sandbox.stats.multicomp import MultiComparison\n",
    "    mult_comp = MultiComparison(df['gmean'], df['resampling'])\n",
    "\n",
    "    tukey_result = mult_comp.tukeyhsd()\n",
    "\n",
    "    # Convert the Tukey HSD results into a DataFrame for easier manipulation\n",
    "    tukey_df = pd.DataFrame(data=tukey_result._results_table.data[1:], columns=tukey_result._results_table.data[0])\n",
    "\n",
    "    # Identify which resampling strategies significantly exceed others in performance\n",
    "    higher_resampling = tukey_df[(tukey_df['reject'] == True) & (tukey_df['meandiff'] > 0)]\n",
    "    \n",
    "    # Analyzing the results of multiple comparisons\n",
    "    # The 'meandiff' column represents the mean difference in 'gmean' between group2 and group1,\n",
    "    # indicating that a positive 'meandiff' suggests group2 performs better than group1.\n",
    "    print(higher_resampling)"
   ]
  },
  {
   "cell_type": "code",
   "execution_count": 9,
   "id": "9ed3061f-214d-4f43-96f9-421e14cfb103",
   "metadata": {
    "execution": {
     "iopub.execute_input": "2024-08-14T02:51:17.379425Z",
     "iopub.status.busy": "2024-08-14T02:51:17.379202Z",
     "iopub.status.idle": "2024-08-14T02:51:17.385528Z",
     "shell.execute_reply": "2024-08-14T02:51:17.383972Z",
     "shell.execute_reply.started": "2024-08-14T02:51:17.379403Z"
    }
   },
   "outputs": [],
   "source": [
    "# Given the results, the Inversely Weighted Gaussian Mixture Model (IWGMM) resampling strategy \n",
    "# consistently shows significant improvements over others. This highlights IWGMM as the most \n",
    "# effective resampling method in our analysis."
   ]
  },
  {
   "cell_type": "code",
   "execution_count": 10,
   "id": "bcec9323-8872-4b04-b0a2-b12359989d97",
   "metadata": {
    "execution": {
     "iopub.execute_input": "2024-08-14T02:51:17.387413Z",
     "iopub.status.busy": "2024-08-14T02:51:17.387179Z",
     "iopub.status.idle": "2024-08-14T02:51:17.410176Z",
     "shell.execute_reply": "2024-08-14T02:51:17.408186Z",
     "shell.execute_reply.started": "2024-08-14T02:51:17.387394Z"
    }
   },
   "outputs": [
    {
     "name": "stdout",
     "output_type": "stream",
     "text": [
      "<class 'pandas.core.frame.DataFrame'>\n",
      "Index: 570 entries, 3984 to 4553\n",
      "Data columns (total 7 columns):\n",
      " #   Column      Non-Null Count  Dtype  \n",
      "---  ------      --------------  -----  \n",
      " 0   resampling  570 non-null    object \n",
      " 1   mmr         570 non-null    float64\n",
      " 2   eml         570 non-null    object \n",
      " 3   gmean       570 non-null    float64\n",
      " 4   mcc         570 non-null    float64\n",
      " 5   ap          570 non-null    float64\n",
      " 6   auc         570 non-null    float64\n",
      "dtypes: float64(5), object(2)\n",
      "memory usage: 35.6+ KB\n"
     ]
    }
   ],
   "source": [
    "# Next, we will focus exclusively on data where 'resampling' is set to 'IWGMM'\n",
    "# to further explore the characteristics and performance metrics of this optimal resampling strategy.\n",
    "\n",
    "df_filtered1 = df[df['resampling'] == 'IWGMM']\n",
    "df_filtered1.info()"
   ]
  },
  {
   "cell_type": "code",
   "execution_count": 11,
   "id": "eb2d719a-12b1-4c60-b583-0e79c6c3ddd8",
   "metadata": {
    "execution": {
     "iopub.execute_input": "2024-08-14T02:51:17.412301Z",
     "iopub.status.busy": "2024-08-14T02:51:17.411905Z",
     "iopub.status.idle": "2024-08-14T02:51:17.471578Z",
     "shell.execute_reply": "2024-08-14T02:51:17.470440Z",
     "shell.execute_reply.started": "2024-08-14T02:51:17.412265Z"
    }
   },
   "outputs": [
    {
     "name": "stdout",
     "output_type": "stream",
     "text": [
      "            sum_sq     df           F        PR(>F)\n",
      "C(mmr)    0.051831   94.0    0.994740  4.989661e-01\n",
      "C(eml)    0.279607    5.0  100.883832  3.960856e-72\n",
      "Residual  0.260528  470.0         NaN           NaN\n"
     ]
    }
   ],
   "source": [
    "# Define the model formula for the filtered dataset\n",
    "# This formula establishes 'gmean' as the dependent variable with 'mmr' and 'eml' as independent variables.\n",
    "# We now focus on analyzing how these factors influence performance metrics within the IWGMM resampling strategy context.\n",
    "formula = 'gmean ~ C(mmr) + C(eml)'\n",
    "\n",
    "# Fit the OLS model on the filtered data\n",
    "# We use the Ordinary Least Squares (OLS) regression model to estimate the relationship between 'gmean' and the selected factors.\n",
    "model = ols(formula, data=df_filtered1).fit()\n",
    "\n",
    "# Perform ANOVA to assess the statistical significance\n",
    "# Analysis of Variance (ANOVA) is conducted to examine the impact of 'mmr' and 'eml' on 'gmean',\n",
    "# helping to identify which factors significantly affect the outcome.\n",
    "aov_table = sm.stats.anova_lm(model, typ=2)\n",
    "print(aov_table)"
   ]
  },
  {
   "cell_type": "code",
   "execution_count": 12,
   "id": "b1ff886e-bb23-4a89-bae2-8727aad6dcb5",
   "metadata": {
    "execution": {
     "iopub.execute_input": "2024-08-14T02:51:17.473541Z",
     "iopub.status.busy": "2024-08-14T02:51:17.472704Z",
     "iopub.status.idle": "2024-08-14T02:51:17.521382Z",
     "shell.execute_reply": "2024-08-14T02:51:17.520616Z",
     "shell.execute_reply.started": "2024-08-14T02:51:17.473512Z"
    }
   },
   "outputs": [
    {
     "name": "stdout",
     "output_type": "stream",
     "text": [
      "            sum_sq     df          F        PR(>F)\n",
      "C(mmr)    0.021512   94.0   0.864899  8.043113e-01\n",
      "C(eml)    0.098714    5.0  74.615389  1.874960e-57\n",
      "Residual  0.124359  470.0        NaN           NaN\n"
     ]
    }
   ],
   "source": [
    "# Analyze 'mcc' as the dependent variable\n",
    "formula = 'mcc ~ C(mmr) + C(eml)'\n",
    "model = ols(formula, data=df_filtered1).fit()\n",
    "aov_table = sm.stats.anova_lm(model, typ=2)\n",
    "print(aov_table)"
   ]
  },
  {
   "cell_type": "code",
   "execution_count": 13,
   "id": "146e59c4-d7af-4a1f-b508-6a188fe2e668",
   "metadata": {
    "execution": {
     "iopub.execute_input": "2024-08-14T02:51:17.522803Z",
     "iopub.status.busy": "2024-08-14T02:51:17.522375Z",
     "iopub.status.idle": "2024-08-14T02:51:17.557954Z",
     "shell.execute_reply": "2024-08-14T02:51:17.557279Z",
     "shell.execute_reply.started": "2024-08-14T02:51:17.522782Z"
    }
   },
   "outputs": [
    {
     "name": "stdout",
     "output_type": "stream",
     "text": [
      "            sum_sq     df          F        PR(>F)\n",
      "C(mmr)    0.022762   94.0   1.431515  8.964919e-03\n",
      "C(eml)    0.079275    5.0  93.730521  2.460667e-68\n",
      "Residual  0.079503  470.0        NaN           NaN\n"
     ]
    }
   ],
   "source": [
    "# Analyze 'ap' as the dependent variable\n",
    "formula = 'ap ~ C(mmr) + C(eml)'\n",
    "model = ols(formula, data=df_filtered1).fit()\n",
    "aov_table = sm.stats.anova_lm(model, typ=2)\n",
    "print(aov_table)"
   ]
  },
  {
   "cell_type": "code",
   "execution_count": 14,
   "id": "6d347efa-861a-469a-8523-b83ada403069",
   "metadata": {
    "execution": {
     "iopub.execute_input": "2024-08-14T02:51:17.559500Z",
     "iopub.status.busy": "2024-08-14T02:51:17.558910Z",
     "iopub.status.idle": "2024-08-14T02:51:17.646002Z",
     "shell.execute_reply": "2024-08-14T02:51:17.645312Z",
     "shell.execute_reply.started": "2024-08-14T02:51:17.559478Z"
    }
   },
   "outputs": [
    {
     "name": "stdout",
     "output_type": "stream",
     "text": [
      "            sum_sq     df           F         PR(>F)\n",
      "C(mmr)    0.019424   94.0    0.982780   5.290294e-01\n",
      "C(eml)    0.177118    5.0  168.473141  2.234757e-102\n",
      "Residual  0.098823  470.0         NaN            NaN\n"
     ]
    }
   ],
   "source": [
    "# Analyze 'auc' as the dependent variable\n",
    "formula = 'auc ~ C(mmr) + C(eml)'\n",
    "model = ols(formula, data=df_filtered1).fit()\n",
    "aov_table = sm.stats.anova_lm(model, typ=2)\n",
    "print(aov_table)"
   ]
  },
  {
   "cell_type": "code",
   "execution_count": 15,
   "id": "b2821aa5-f824-4fca-88bd-ea70652b7d08",
   "metadata": {
    "execution": {
     "iopub.execute_input": "2024-08-14T02:51:17.647814Z",
     "iopub.status.busy": "2024-08-14T02:51:17.647277Z",
     "iopub.status.idle": "2024-08-14T02:51:18.124374Z",
     "shell.execute_reply": "2024-08-14T02:51:18.122466Z",
     "shell.execute_reply.started": "2024-08-14T02:51:17.647785Z"
    }
   },
   "outputs": [
    {
     "name": "stdout",
     "output_type": "stream",
     "text": [
      "      group1    group2  meandiff   p-adj   lower   upper  reject\n",
      "0   AdaBoost  CatBoost   -0.0092  0.0753 -0.0190  0.0005   False\n",
      "1   AdaBoost      GBDT    0.0208  0.0000  0.0110  0.0306    True\n",
      "2   AdaBoost  LightGBM   -0.0213  0.0000 -0.0310 -0.0115    True\n",
      "3   AdaBoost        RF   -0.0506  0.0000 -0.0604 -0.0409    True\n",
      "4   AdaBoost   XGBoost   -0.0249  0.0000 -0.0347 -0.0152    True\n",
      "5   CatBoost      GBDT    0.0300  0.0000  0.0203  0.0398    True\n",
      "6   CatBoost  LightGBM   -0.0120  0.0061 -0.0218 -0.0023    True\n",
      "7   CatBoost        RF   -0.0414  0.0000 -0.0511 -0.0316    True\n",
      "8   CatBoost   XGBoost   -0.0157  0.0001 -0.0255 -0.0059    True\n",
      "9       GBDT  LightGBM   -0.0421  0.0000 -0.0518 -0.0323    True\n",
      "10      GBDT        RF   -0.0714  0.0000 -0.0812 -0.0617    True\n",
      "11      GBDT   XGBoost   -0.0457  0.0000 -0.0555 -0.0360    True\n",
      "12  LightGBM        RF   -0.0293  0.0000 -0.0391 -0.0196    True\n",
      "13  LightGBM   XGBoost   -0.0037  0.8922 -0.0134  0.0061   False\n",
      "14        RF   XGBoost    0.0257  0.0000  0.0159  0.0354    True\n"
     ]
    }
   ],
   "source": [
    "# Following the ANOVA analysis which highlighted significant differences among 'eml' categories,\n",
    "# we now conduct a detailed comparison to pinpoint which specific machine learning algorithms\n",
    "# significantly outperform others within the IWGMM resampling strategy context.\n",
    "\n",
    "# Conducting multiple comparisons among machine learning algorithms\n",
    "mult_comp = MultiComparison(df_filtered1['gmean'], df_filtered1['eml'])\n",
    "\n",
    "# Performing the Tukey HSD test to statistically compare all pairs of algorithms\n",
    "tukey_result = mult_comp.tukeyhsd()\n",
    "\n",
    "# Converting the results of Tukey's test into a DataFrame for easier analysis and interpretation\n",
    "tukey_df = pd.DataFrame(data=tukey_result._results_table.data[1:], columns=tukey_result._results_table.data[0])\n",
    "\n",
    "# Identifying which machine learning strategies significantly enhance performance\n",
    "# by checking which comparisons have a positive mean difference and are statistically significant\n",
    "higher_strategies = tukey_df[(tukey_df['reject'] == True) & (tukey_df['meandiff'] > 0)]\n",
    "print(tukey_df)"
   ]
  },
  {
   "cell_type": "code",
   "execution_count": 16,
   "id": "021ca72d-1f7d-495b-9c5b-e9bb47355e38",
   "metadata": {
    "execution": {
     "iopub.execute_input": "2024-08-14T02:51:18.127197Z",
     "iopub.status.busy": "2024-08-14T02:51:18.126588Z",
     "iopub.status.idle": "2024-08-14T02:51:18.134738Z",
     "shell.execute_reply": "2024-08-14T02:51:18.132708Z",
     "shell.execute_reply.started": "2024-08-14T02:51:18.127145Z"
    }
   },
   "outputs": [],
   "source": [
    "# Reviewing the results of Tukey's multiple comparisons\n",
    "# We have identified several significant comparisons indicating superior performance of certain algorithms.\n",
    "# For instance, 'GBDT' has shown a significant improvement over 'AdaBoost' and some other algorithms."
   ]
  },
  {
   "cell_type": "code",
   "execution_count": 17,
   "id": "b2eefa43-9e35-4042-a627-3778a556adcd",
   "metadata": {
    "execution": {
     "iopub.execute_input": "2024-08-14T02:51:18.136929Z",
     "iopub.status.busy": "2024-08-14T02:51:18.136381Z",
     "iopub.status.idle": "2024-08-14T02:51:18.163831Z",
     "shell.execute_reply": "2024-08-14T02:51:18.161579Z",
     "shell.execute_reply.started": "2024-08-14T02:51:18.136878Z"
    }
   },
   "outputs": [
    {
     "name": "stdout",
     "output_type": "stream",
     "text": [
      "     resampling   mmr   eml     gmean       mcc        ap       auc\n",
      "4178      IWGMM  0.09  GBDT  0.669374  0.212361  0.168155  0.776938\n",
      "4200      IWGMM  0.31  GBDT  0.667517  0.205352  0.151108  0.773669\n",
      "4188      IWGMM  0.19  GBDT  0.667088  0.203796  0.171474  0.767442\n",
      "4190      IWGMM  0.21  GBDT  0.664637  0.227340  0.159483  0.769225\n",
      "4202      IWGMM  0.33  GBDT  0.658332  0.200762  0.160595  0.764569\n",
      "4192      IWGMM  0.23  GBDT  0.657909  0.199198  0.175665  0.781634\n",
      "4191      IWGMM  0.22  GBDT  0.657627  0.198167  0.171752  0.771618\n",
      "4205      IWGMM  0.36  GBDT  0.656499  0.194140  0.170120  0.767827\n",
      "4183      IWGMM  0.14  GBDT  0.654764  0.220890  0.172151  0.768489\n",
      "4175      IWGMM  0.06  GBDT  0.649665  0.198784  0.179060  0.787162\n"
     ]
    }
   ],
   "source": [
    "# Now, focusing on the subset where 'GBDT' is the chosen ensemble method within the IWGMM resampling strategy,\n",
    "# we will extract the top-performing configurations based on the 'gmean' scores.\n",
    "\n",
    "# Filtering the data for the optimal resampling strategy 'IWGMM' and the most effective ML algorithm 'GBDT'\n",
    "df_filtered2 = df_filtered1[(df_filtered1['resampling'] == 'IWGMM') & (df_filtered1['eml'] == 'GBDT') ]\n",
    "\n",
    "# Sorting the filtered data to identify the top 10 configurations with the highest 'gmean' scores\n",
    "top_10_df = df_filtered2.nlargest(10, 'gmean')\n",
    "print(top_10_df)"
   ]
  }
 ],
 "metadata": {
  "kernelspec": {
   "display_name": "clinical",
   "language": "python",
   "name": "clinical"
  },
  "language_info": {
   "codemirror_mode": {
    "name": "ipython",
    "version": 3
   },
   "file_extension": ".py",
   "mimetype": "text/x-python",
   "name": "python",
   "nbconvert_exporter": "python",
   "pygments_lexer": "ipython3",
   "version": "3.11.4"
  }
 },
 "nbformat": 4,
 "nbformat_minor": 5
}

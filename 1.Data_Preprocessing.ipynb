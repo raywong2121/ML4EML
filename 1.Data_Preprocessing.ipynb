{
 "cells": [
  {
   "cell_type": "code",
   "execution_count": 1,
   "id": "c242a4fa-fd7e-45cd-8129-847968ca18b1",
   "metadata": {
    "execution": {
     "iopub.execute_input": "2024-08-13T05:48:33.948470Z",
     "iopub.status.busy": "2024-08-13T05:48:33.947768Z",
     "iopub.status.idle": "2024-08-13T05:48:35.005188Z",
     "shell.execute_reply": "2024-08-13T05:48:35.003642Z",
     "shell.execute_reply.started": "2024-08-13T05:48:33.948412Z"
    }
   },
   "outputs": [],
   "source": [
    "import pandas as pd\n",
    "import numpy as np\n",
    "from sklearn.model_selection import train_test_split\n",
    "from sklearn.preprocessing import MinMaxScaler, OneHotEncoder\n",
    "from sklearn.impute import SimpleImputer\n",
    "import joblib\n",
    "import warnings \n",
    "warnings.filterwarnings ('ignore') "
   ]
  },
  {
   "cell_type": "code",
   "execution_count": 2,
   "id": "9b5e0e74-e008-4687-8de5-95ca61295d90",
   "metadata": {
    "execution": {
     "iopub.execute_input": "2024-08-13T05:48:35.008003Z",
     "iopub.status.busy": "2024-08-13T05:48:35.007227Z",
     "iopub.status.idle": "2024-08-13T05:48:35.169454Z",
     "shell.execute_reply": "2024-08-13T05:48:35.168014Z",
     "shell.execute_reply.started": "2024-08-13T05:48:35.007946Z"
    }
   },
   "outputs": [],
   "source": [
    "# Data loading\n",
    "df_train_result = pd.read_csv('PE_original_data.csv', low_memory=False, encoding=\"utf-8\")"
   ]
  },
  {
   "cell_type": "code",
   "execution_count": 3,
   "id": "d37f101f-d1cb-4609-b3b6-8e5515b919d7",
   "metadata": {
    "execution": {
     "iopub.execute_input": "2024-08-13T05:48:35.170858Z",
     "iopub.status.busy": "2024-08-13T05:48:35.170635Z",
     "iopub.status.idle": "2024-08-13T05:48:35.182693Z",
     "shell.execute_reply": "2024-08-13T05:48:35.181467Z",
     "shell.execute_reply.started": "2024-08-13T05:48:35.170837Z"
    }
   },
   "outputs": [],
   "source": [
    "def preprocess_data(data, numeric_cols, excluded_cols):\n",
    "    # Define all columns, excluding the numeric types already specified and the remaining columns after the excluded columns as categorical variables\n",
    "    all_cols = data.columns.tolist()\n",
    "    if excluded_cols:\n",
    "        categorical_cols = [col for col in all_cols if col not in numeric_cols and col not in excluded_cols]\n",
    "    else:\n",
    "        categorical_cols = [col for col in all_cols if col not in numeric_cols]\n",
    "\n",
    "    # Reset the DataFrame's indexes to ensure error-free merging of data\n",
    "    data = data.reset_index(drop=True)\n",
    "\n",
    "    # Handling numeric data: scaling after filling in missing values\n",
    "    numeric_imputer = SimpleImputer(strategy='mean')\n",
    "    numeric_data = numeric_imputer.fit_transform(data[numeric_cols])\n",
    "    scaler = MinMaxScaler()\n",
    "    scaled_numeric_data = scaler.fit_transform(numeric_data)\n",
    "    scaled_numeric_df = pd.DataFrame(scaled_numeric_data, columns=numeric_cols)\n",
    "\n",
    "    # Handling categorical variables: conditional coding after filling in missing values\n",
    "    categorical_imputer = SimpleImputer(strategy='constant', fill_value=-1)\n",
    "    categorical_data = categorical_imputer.fit_transform(data[categorical_cols])\n",
    "    categorical_df = pd.DataFrame(categorical_data, columns=categorical_cols)\n",
    "\n",
    "    encoder = OneHotEncoder(sparse=False, handle_unknown='ignore')\n",
    "    encoded_data = pd.DataFrame() \n",
    "    for col in categorical_cols:\n",
    "        unique_values = categorical_df[col].unique()\n",
    "        if len(unique_values) > 2:\n",
    "            encoded_col = encoder.fit_transform(categorical_df[[col]])\n",
    "            col_names = [f\"{col}_{category}\" for category in encoder.categories_[0]]\n",
    "            encoded_data = pd.concat([encoded_data, pd.DataFrame(encoded_col, columns=col_names)], axis=1)\n",
    "        else:\n",
    "            encoded_data = pd.concat([encoded_data, categorical_df[[col]]], axis=1)\n",
    "            \n",
    "    if excluded_cols:\n",
    "        processed_data = pd.concat([scaled_numeric_df, encoded_data, data[excluded_cols]], axis=1)\n",
    "    else:\n",
    "        processed_data = pd.concat([scaled_numeric_df, encoded_data], axis=1)\n",
    "\n",
    "    return processed_data"
   ]
  },
  {
   "cell_type": "code",
   "execution_count": 4,
   "id": "0279487b-669d-4fb2-ba19-c989e40bc45e",
   "metadata": {
    "execution": {
     "iopub.execute_input": "2024-08-13T05:48:35.183528Z",
     "iopub.status.busy": "2024-08-13T05:48:35.183326Z",
     "iopub.status.idle": "2024-08-13T05:48:35.193827Z",
     "shell.execute_reply": "2024-08-13T05:48:35.191430Z",
     "shell.execute_reply.started": "2024-08-13T05:48:35.183509Z"
    }
   },
   "outputs": [],
   "source": [
    "# Define the list of numeric columns\n",
    "numeric_cols = [\n",
    "    'Vmax_mean', 'Vmin_mean', '就诊年龄', '孕', '月经周期', 'PI_mean', 'SD_mean', 'PT国际标准化比值', 'RBC体积分布宽度CV', 'RBC体积分布宽度SD', \n",
    "    'γ-谷氨酰基转移酶', '丙型肝炎抗体', '丙氨酸氨基转移酶', '中核酸浓度网织红细胞百分率', '低密度脂蛋白胆固醇', '低成熟度网织红细胞比率(高)', \n",
    "    '低核酸浓度网织红细胞百分率', '促甲状腺激素', '凝血酶时间', '前白蛋白', '单核细胞比率', '单核细胞计数', '单胺氧化酶', '嗜碱性粒细胞比率', \n",
    "    '嗜碱性粒细胞计数', '嗜酸性粒细胞比率', '嗜酸性粒细胞计数', '大血小板比率', '尿_酸碱度', '尿比重', '尿素', '尿酸', '平均RBC血红蛋白含量', \n",
    "    '平均RBC血红蛋白浓度', '平均红细胞体积', '平均血小板体积', '总胆固醇', '总胆汁酸', '总胆红素', '总蛋白', '活化的部分凝血活酶时间', \n",
    "    '淋巴细胞比率', '淋巴细胞计数', '游离三碘甲状原氨酸', '游离甲状腺素', '球蛋白', '甘油三酯', '白蛋白', '白蛋白/球蛋白', '直接胆红素', \n",
    "    '碱性磷酸酶', '碳酸氢根(总二氧化碳)', '粒细胞比率', '粒细胞计数', '红细胞压积', '网织红细胞百分率', '网织红细胞绝对值', '胆碱酯酶', \n",
    "    '腺苷脱氨酶', '血_白细胞计数', '血_红细胞计数', '血_肌酐', '血_葡萄糖', '血小板体积分布宽度', '血小板比积', '血小板计数', '血浆D—二聚体', \n",
    "    '血浆凝血酶原时间', '血浆纤维蛋白原', '血清α-L-岩藻糖苷酶', '血红蛋白', '载脂蛋白AⅠ', '载脂蛋白AⅠ/B', '载脂蛋白B', '钙', '铁蛋白', \n",
    "    '门冬氨酸氨基转移酶', '间接胆红素', '高密度脂蛋白胆固醇', '高核酸浓度网织红细胞百分率', '产', '初潮年龄'\n",
    "]\n",
    "\n",
    "excluded_cols = ['LABEL', 'medical_record_number']"
   ]
  },
  {
   "cell_type": "code",
   "execution_count": 5,
   "id": "b4de8781-4c99-41b5-ae12-6b58c21dfe67",
   "metadata": {
    "execution": {
     "iopub.execute_input": "2024-08-13T05:48:35.196899Z",
     "iopub.status.busy": "2024-08-13T05:48:35.195905Z",
     "iopub.status.idle": "2024-08-13T05:48:35.387188Z",
     "shell.execute_reply": "2024-08-13T05:48:35.385416Z",
     "shell.execute_reply.started": "2024-08-13T05:48:35.196841Z"
    }
   },
   "outputs": [],
   "source": [
    "# Preprocess the data\n",
    "df_train_result = preprocess_data(df_train_result, numeric_cols, excluded_cols)"
   ]
  },
  {
   "cell_type": "code",
   "execution_count": 6,
   "id": "2df6635c-677d-4ba9-8f5f-e4785cf48cd1",
   "metadata": {
    "execution": {
     "iopub.execute_input": "2024-08-13T05:48:35.389550Z",
     "iopub.status.busy": "2024-08-13T05:48:35.389321Z",
     "iopub.status.idle": "2024-08-13T05:48:35.403767Z",
     "shell.execute_reply": "2024-08-13T05:48:35.401752Z",
     "shell.execute_reply.started": "2024-08-13T05:48:35.389525Z"
    }
   },
   "outputs": [],
   "source": [
    "# Split the data\n",
    "X = df_train_result.drop(columns=excluded_cols)\n",
    "y = df_train_result['LABEL']\n",
    "X_train, X_test, y_train, y_test = train_test_split(X, y, test_size=0.3, random_state=42)"
   ]
  },
  {
   "cell_type": "code",
   "execution_count": 7,
   "id": "5ddd593c-8a16-499b-b702-2b3f5cd82447",
   "metadata": {
    "execution": {
     "iopub.execute_input": "2024-08-13T05:48:35.404996Z",
     "iopub.status.busy": "2024-08-13T05:48:35.404785Z",
     "iopub.status.idle": "2024-08-13T05:48:36.735551Z",
     "shell.execute_reply": "2024-08-13T05:48:36.734626Z",
     "shell.execute_reply.started": "2024-08-13T05:48:35.404976Z"
    }
   },
   "outputs": [],
   "source": [
    "from sklearn.linear_model import LassoCV\n",
    "\n",
    "# Using LassoCV to find the optimal alpha\n",
    "lasso = LassoCV(cv=5).fit(X_train, y_train)\n",
    "\n",
    "# Acquisition of features with non-zero significance\n",
    "important_features = np.where(lasso.coef_ != 0)[0]\n",
    "\n",
    "# Updating X_train and X_test with important features\n",
    "X_train_important = X_train.iloc[:, important_features]\n",
    "X_test_important = X_test.iloc[:, important_features]"
   ]
  },
  {
   "cell_type": "code",
   "execution_count": 8,
   "id": "674e3c07-c817-43e7-9d74-b9a5bea229f2",
   "metadata": {
    "execution": {
     "iopub.execute_input": "2024-08-13T05:48:36.737188Z",
     "iopub.status.busy": "2024-08-13T05:48:36.736711Z",
     "iopub.status.idle": "2024-08-13T05:48:36.757131Z",
     "shell.execute_reply": "2024-08-13T05:48:36.756461Z",
     "shell.execute_reply.started": "2024-08-13T05:48:36.737153Z"
    }
   },
   "outputs": [
    {
     "data": {
      "text/plain": [
       "['test_data.pkl']"
      ]
     },
     "execution_count": 8,
     "metadata": {},
     "output_type": "execute_result"
    }
   ],
   "source": [
    "# Save the processed datasets\n",
    "joblib.dump((X_train_important, y_train), 'train_data.pkl')\n",
    "joblib.dump((X_test_important, y_test), 'test_data.pkl')"
   ]
  }
 ],
 "metadata": {
  "kernelspec": {
   "display_name": "clinical",
   "language": "python",
   "name": "clinical"
  },
  "language_info": {
   "codemirror_mode": {
    "name": "ipython",
    "version": 3
   },
   "file_extension": ".py",
   "mimetype": "text/x-python",
   "name": "python",
   "nbconvert_exporter": "python",
   "pygments_lexer": "ipython3",
   "version": "3.11.4"
  }
 },
 "nbformat": 4,
 "nbformat_minor": 5
}
